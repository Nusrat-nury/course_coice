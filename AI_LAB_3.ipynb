{
  "nbformat": 4,
  "nbformat_minor": 0,
  "metadata": {
    "colab": {
      "name": "AI LAB 3.ipynb",
      "provenance": [],
      "authorship_tag": "ABX9TyMMtiwE2AO5yjY7WZVnu2MH",
      "include_colab_link": true
    },
    "kernelspec": {
      "name": "python3",
      "display_name": "Python 3"
    },
    "language_info": {
      "name": "python"
    }
  },
  "cells": [
    {
      "cell_type": "markdown",
      "metadata": {
        "id": "view-in-github",
        "colab_type": "text"
      },
      "source": [
        "<a href=\"https://colab.research.google.com/github/Nusrat-nury/course_coice/blob/master/AI_LAB_3.ipynb\" target=\"_parent\"><img src=\"https://colab.research.google.com/assets/colab-badge.svg\" alt=\"Open In Colab\"/></a>"
      ]
    },
    {
      "cell_type": "code",
      "metadata": {
        "id": "yOpLt9aM7r8S"
      },
      "source": [
        "course_name = []\n",
        "course_code = []\n"
      ],
      "execution_count": 9,
      "outputs": []
    },
    {
      "cell_type": "code",
      "metadata": {
        "colab": {
          "base_uri": "https://localhost:8080/"
        },
        "id": "NyNjS6v3_lJU",
        "outputId": "2b8941be-480e-4b76-b257-f75aae3cb381"
      },
      "source": [
        "def navBar():\n",
        "  print(\"     This your dashboard for keep tracking of your semister course\")\n",
        "  print(\"|----------------------------------------------------------------------|\")\n",
        "  print(\"|-------------------------- Menu --------------------------------------|\")\n",
        "  print(\"|----------------------------------------------------------------------|\")\n",
        "  print(\"       Type 1 and press Enter for show your registerd course\")\n",
        "  print(\"              Type 2 and press Enter for Add course\")\n",
        "  print('             Type 3 and press Enter for remove course')\n",
        "\n",
        "navBar()\n"
      ],
      "execution_count": 10,
      "outputs": [
        {
          "output_type": "stream",
          "text": [
            "     This your dashboard for keep tracking of your semister course\n",
            "|----------------------------------------------------------------------|\n",
            "|-------------------------- Menu --------------------------------------|\n",
            "|----------------------------------------------------------------------|\n",
            "       Type 1 and press Enter for show your registerd course\n",
            "              Type 2 and press Enter for Add course\n",
            "             Type 3 and press Enter for remove course\n"
          ],
          "name": "stdout"
        }
      ]
    },
    {
      "cell_type": "code",
      "metadata": {
        "id": "ooScwG488zrV"
      },
      "source": [
        "def show_your_registerd_course():\n",
        "  print()\n",
        "  if len(course_code) == 0:\n",
        "    print(\"No course in your list\")\n",
        "  else:\n",
        "    print(\"\\nID ---  Course Name --- Course Code\")\n",
        "    for id, course in enumerate(course_name):\n",
        "      print(f\"{id+1} --- {course} --- {course_code[id]}\")"
      ],
      "execution_count": 11,
      "outputs": []
    },
    {
      "cell_type": "code",
      "metadata": {
        "id": "Nuj2mhQN85vH"
      },
      "source": [
        "def add_course(code, name):\n",
        "  course_code.append(code)\n",
        "  course_name.append(name)\n",
        "  show_your_registerd_course()"
      ],
      "execution_count": 12,
      "outputs": []
    },
    {
      "cell_type": "code",
      "metadata": {
        "id": "AnBDaxkS8-go"
      },
      "source": [
        "def remove_course(index):\n",
        "  course_code.pop(index)\n",
        "  course_name.pop(index)\n",
        "  show_your_registerd_course()"
      ],
      "execution_count": 13,
      "outputs": []
    },
    {
      "cell_type": "code",
      "metadata": {
        "id": "f8HhKe2e9DIo",
        "colab": {
          "base_uri": "https://localhost:8080/"
        },
        "outputId": "107f1edd-6da1-493f-be0d-b29818710a2a"
      },
      "source": [
        "def main_page():\n",
        "  choice = int(input(\"Enter your choice: \"))\n",
        "  if choice == 1:\n",
        "    show_your_registerd_course()\n",
        "  elif choice == 2:\n",
        "    name = input(\"Enter course name: \")\n",
        "    code = input(\"Enter course code: \")\n",
        "    add_course(code, name)\n",
        "  elif choice == 3:\n",
        "    index = int(input(\"Enter course id: \"))\n",
        "    remove_course(index-1)\n",
        "  else:\n",
        "    print(\"Please insert a valid Input.\")\n",
        "    main_page()\n",
        "main_page()"
      ],
      "execution_count": 14,
      "outputs": [
        {
          "output_type": "stream",
          "text": [
            "Enter your choice: 1\n",
            "\n",
            "No course in your list\n"
          ],
          "name": "stdout"
        }
      ]
    },
    {
      "cell_type": "code",
      "metadata": {
        "id": "GYQRWWwb9LyY"
      },
      "source": [
        ""
      ],
      "execution_count": null,
      "outputs": []
    },
    {
      "cell_type": "code",
      "metadata": {
        "id": "zhUBYlop-Erj"
      },
      "source": [
        ""
      ],
      "execution_count": null,
      "outputs": []
    }
  ]
}